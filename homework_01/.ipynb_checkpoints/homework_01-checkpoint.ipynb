{
 "cells": [
  {
   "cell_type": "markdown",
   "id": "8955a739",
   "metadata": {},
   "source": [
    "# Домашнее задание: Базовые типы данных\n",
    "\n"
   ]
  },
  {
   "metadata": {},
   "cell_type": "markdown",
   "source": [
    "## Задание 1: Зеркальное отражение цифр\n",
    "\n",
    "Пользователь вводит пятизначное число. Программа должна зеркально отразить три центральные цифры. Первая и последняя остаются на местах.\n",
    "\n",
    "<br>\n",
    "\n",
    "**Примеры:**\n",
    "* `23456 -> 25436`\n",
    "* `30789 -> 38709`"
   ],
   "id": "d4e67b86"
  },
  {
   "cell_type": "code",
   "id": "5a4d665d",
   "metadata": {
    "ExecuteTime": {
     "end_time": "2025-08-09T16:14:00.831957Z",
     "start_time": "2025-08-09T16:13:56.622803Z"
    }
   },
   "source": [
    "          # Запрос пятизначного числа\n",
    "inintial_string = input(\"Введите пятизначное целое число:\")\n",
    "          # Обработка только в случае, если введено целое пятизначное положительное число\n",
    "if str.isdigit(inintial_string) :\n",
    "    inintial_number = int(inintial_string)\n",
    "    if inintial_number > 9999 and inintial_number < 100000 :\n",
    "        print(inintial_string, \"->\", inintial_string[0] + inintial_string[-2] + inintial_string[-3] + inintial_string[-4] + inintial_string[4])\n",
    "    else:\n",
    "        print(\"Число должно быть пятизначным!\")\n",
    "else:\n",
    "    print(\"Некорректный ввод!\")"
   ],
   "outputs": [
    {
     "name": "stdout",
     "output_type": "stream",
     "text": [
      "13579 -> 17539\n"
     ]
    }
   ],
   "execution_count": 1
  },
  {
   "cell_type": "markdown",
   "id": "00b9578b",
   "metadata": {},
   "source": [
    "## Задание 2: Подсчет выходных до отпуска\n",
    "\n",
    "Пользователь вводит сколько дней осталось до ближайшего отпуска. Программа должна вывести количество выходных дней до отпуска, если учесть, что выходные это суббота и воскресенье, сегодня понедельник, и праздники мы не учитываем.\n",
    "\n",
    "<br>\n",
    "\n",
    "**Примеры:**\n",
    "* `4  -> 0`\n",
    "* `6  -> 1`\n",
    "* `14 -> 4`"
   ]
  },
  {
   "cell_type": "code",
   "id": "07154103",
   "metadata": {
    "ExecuteTime": {
     "end_time": "2025-08-09T16:14:11.263446Z",
     "start_time": "2025-08-09T16:14:07.925425Z"
    }
   },
   "source": [
    "          # Запрос числа дней до отпуска\n",
    "inintial_string = input(\"Введите число дней до отпуска:\")\n",
    "          # Обработка только в случае, если введено положительное число от 0 до 365\n",
    "if str.isdigit(inintial_string) :\n",
    "    inintial_number = int(inintial_string)\n",
    "    if inintial_number >= 0 and inintial_number <= 365:\n",
    "        week = inintial_number // 7              # Определение числа полных недель до отпуска\n",
    "        begin_on_sunday = 0                      # Проверка воскресенья как начала отпуска\n",
    "        if (inintial_number % 7) == 6 : begin_on_sunday = 1\n",
    "        print(inintial_string, \"->\", week*2 + begin_on_sunday)\n",
    "    else:\n",
    "        print(\"Подсчет дней до отпуска осуществляется только на ближайший год!\")\n",
    "else:\n",
    "    print(\"Некорректный ввод!\")\n",
    "# 0                     1                     2                     3                     4\n",
    "# Mo Tu We Th Fr Sa Su  Mo Tu We Th Fr Sa Su  Mo Tu We Th Fr Sa Su  Mo Tu We Th Fr Sa Su  Mo Tu\n",
    "# 0  0  0  0  0  0  1   2  2  2  2  2  2  3   4  4  4  4  4  4  5   6  6  6  6  6  6  7   8  8"
   ],
   "outputs": [
    {
     "name": "stdout",
     "output_type": "stream",
     "text": [
      "30 -> 8\n"
     ]
    }
   ],
   "execution_count": 2
  },
  {
   "cell_type": "markdown",
   "id": "cdde282c",
   "metadata": {},
   "source": [
    "## Задание 3: Плитка шоколада\n",
    "\n",
    "Пользователь вводит длину и ширину плитки шоколада, а также размер куска, который хочет отломить. Программа должна вычислить - можно ли совершить подобный разлом или нет, если учесть, что ломать можно только по прямой.\n",
    "\n",
    "<br>\n",
    "\n",
    "**Примеры:**\n",
    "* `3, 4, 6  -> True`\n",
    "* `5, 7, 8  -> False`\n",
    "* `4, 5, 12 -> True`"
   ]
  },
  {
   "cell_type": "code",
   "id": "70f3324c",
   "metadata": {
    "ExecuteTime": {
     "end_time": "2025-08-11T17:35:24.509103Z",
     "start_time": "2025-08-11T17:35:15.951946Z"
    }
   },
   "source": [
    "          # Запрос размероав плитки шоколада и необходимого кусочка\n",
    "chocolatelength_string = input(\"Введите длину плитки шоколада (см):\")\n",
    "chocolatewidth_string = input(\"Введите ширину плитки шоколада (см):\")\n",
    "piece_string = input(\"Введите размер необходимого кусочка (кв. см):\")\n",
    "          # Обработка только в случае, если введены положительные числа от 1 до 200\n",
    "if str.isdigit(chocolatelength_string) and str.isdigit(chocolatewidth_string) and str.isdigit(piece_string) :\n",
    "    chocolatelength = int(chocolatelength_string)\n",
    "    chocolatewidth = int(chocolatewidth_string)\n",
    "    piece = int(piece_string)\n",
    "    if (int(chocolatelength_string) > 0 and int(chocolatelength_string) < 200) and (int(chocolatewidth_string) > 0 and int(chocolatewidth_string) < 200) and (int(piece_string) > 0 and int(piece_string) < 200):\n",
    "          # Отломление возможно, если одна из сторон является делителем размера желаемого кусочка (в этом случае можно отломить от края), и площадь кусочка не более общей площади плитки\n",
    "        if ((chocolatelength * chocolatewidth) >= piece) and ((piece % chocolatelength == 0) or (piece % chocolatewidth == 0)) : print(chocolatelength, \",\", chocolatewidth, \",\", piece, \"-> True\")\n",
    "        else: print(chocolatelength, \",\", chocolatewidth, \",\", piece, \"-> False\")\n",
    "    else:\n",
    "        print(\"Введены подозрительные значения. Подсчет невозможен!\")\n",
    "else:\n",
    "    print(\"Некорректный ввод!\")"
   ],
   "outputs": [
    {
     "name": "stdout",
     "output_type": "stream",
     "text": [
      "4 , 5 , 12 -> True\n"
     ]
    }
   ],
   "execution_count": 13
  },
  {
   "cell_type": "markdown",
   "id": "6470efc1",
   "metadata": {},
   "source": [
    "## Задание 4: Римские числа\n",
    "\n",
    "Пользователь вводит целое положительное число, программа должна вернуть строку в виде римского числа.\n",
    "\n",
    "<br>\n",
    "\n",
    "**Примеры:**\n",
    "* `3   -> III`\n",
    "* `15  -> XV`\n",
    "* `234 -> CCXXXIV`"
   ]
  },
  {
   "cell_type": "code",
   "id": "8686127c",
   "metadata": {
    "ExecuteTime": {
     "end_time": "2025-08-09T16:14:47.908531Z",
     "start_time": "2025-08-09T16:14:39.483806Z"
    }
   },
   "source": [
    "inintial_string = input(\"Введите целое число до 3999 включительно:\")\n",
    "          # Обработка только в случае, если введено целое положительное число до 3999\n",
    "if str.isdigit(inintial_string) :\n",
    "    inintial_number = int(inintial_string)\n",
    "    if (inintial_number >= 0) and (inintial_number < 4000) :\n",
    "        roman_number = \"\"\n",
    "        current_number = inintial_number\n",
    "          # Обработка тысяч и девятисот (если есть) с использованием литеры М (1000)\n",
    "        if (current_number >=900) :\n",
    "            if (current_number < 1000) :\n",
    "                roman_number += \"CM\"\n",
    "                current_number -= 900\n",
    "            else:\n",
    "                thousands = current_number // 1000\n",
    "                letter = \"M\"\n",
    "                roman_number += letter * thousands\n",
    "                current_number -= 1000*thousands            # Обычное умножение, поскольку числа только до 4К\n",
    "                if (current_number >= 900):                 # Запись девятисот после записи тысяч\n",
    "                    roman_number += \"CM\"\n",
    "                    current_number -= 900\n",
    "          # Обработка сотен от четырехсот до восьмисот (если есть) с использованием литер D (500) и С (100)\n",
    "        if (current_number >=400) :\n",
    "            if (current_number < 500) :\n",
    "                roman_number += \"CD\"\n",
    "                current_number -= 400\n",
    "            else:\n",
    "                hundreds = current_number // 100\n",
    "                letter = \"C\"\n",
    "                roman_number += \"D\"\n",
    "                roman_number += letter * (hundreds-5)\n",
    "                current_number -= 100*hundreds\n",
    "          # Обработка сотен до четырехсот и девяноста (если есть) с использованием литер С (100) и L (50)\n",
    "        if (current_number >=90) :\n",
    "            if (current_number < 100) :\n",
    "                roman_number += \"XC\"\n",
    "                current_number -= 90\n",
    "            else:\n",
    "                hundreds = current_number // 100\n",
    "                letter = \"C\"\n",
    "                roman_number += letter * hundreds\n",
    "                current_number -= 100*hundreds\n",
    "          # Обработка десятков от сорока до восьмидесяти (если есть) с использованием литер L (50) и X (10)\n",
    "        if (current_number >=40) :\n",
    "            if (current_number < 50) :\n",
    "                roman_number += \"XL\"\n",
    "                current_number -= 40\n",
    "            else:\n",
    "                tens = current_number // 10\n",
    "                letter = \"Х\"\n",
    "                roman_number += \"L\"\n",
    "                roman_number += letter * (tens-5)\n",
    "                current_number -= 10*tens\n",
    "          # Обработка десятков до сорока c использованием литер X (10) и V (5)\n",
    "        if (current_number >=9) :\n",
    "            if (current_number < 10) :\n",
    "                roman_number += \"IX\"\n",
    "                current_number -= 9\n",
    "            else:\n",
    "                ones = current_number // 10\n",
    "                letter = \"X\"\n",
    "                roman_number += letter * ones\n",
    "                current_number -= 10*ones\n",
    "          # Обработка единиц от четырех до восьми (если есть) с использованием литер V (5) и I (1)\n",
    "        if (current_number >=4) :\n",
    "            if (current_number < 5) :\n",
    "                roman_number += \"IV\"\n",
    "                current_number -= 4\n",
    "            else:\n",
    "#                ones = current_number // 10\n",
    "                letter = \"I\"\n",
    "                roman_number += \"V\"\n",
    "                roman_number += letter * (current_number-5)\n",
    "                current_number -= current_number\n",
    "          # Обработка единиц до четырех c использованием литер I (1)\n",
    "        if (current_number >=0) :\n",
    "            letter = \"I\"\n",
    "            roman_number += letter * current_number\n",
    "            current_number -= current_number\n",
    "\n",
    "        print(inintial_string, \"->\", roman_number)\n",
    "    else:\n",
    "        print(\"Число должно быть не менее 0 и не более 3999!\")\n",
    "else:\n",
    "    print(\"Некорректный ввод!\")"
   ],
   "outputs": [
    {
     "name": "stdout",
     "output_type": "stream",
     "text": [
      "3568 -> MMMDLХVIII\n"
     ]
    }
   ],
   "execution_count": 4
  },
  {
   "cell_type": "markdown",
   "id": "ca6a4c0a",
   "metadata": {},
   "source": [
    "## Задание 5: Проверка на вещественное число\n",
    "\n",
    "Пользователь вводит данные, проверить - являются ли они положительным вещественным числом. Не использовать встроенные функции для проверки, только методы данных и конструкцию IF. (Дополнительное задание, по желанию - проверка на отрицательные вещественные числа)\n",
    "\n",
    "<br>\n",
    "\n",
    "**Примеры:**\n",
    "* `5.6  -> True`\n",
    "* `.78  -> True`\n",
    "* `.67. -> False`\n",
    "* `5    -> True`"
   ]
  },
  {
   "cell_type": "code",
   "id": "74e39179",
   "metadata": {
    "ExecuteTime": {
     "end_time": "2025-08-09T16:15:19.078749Z",
     "start_time": "2025-08-09T16:15:16.054167Z"
    }
   },
   "source": [
    "          # Запрос числа\n",
    "inintial_string = input(\"Введите число:\")\n",
    "          # Обработка только в случае, если первый символ является минусом, точкой или числом\n",
    "if str.isdigit(inintial_string[0]) or (inintial_string[0] == \"-\") or (inintial_string[0] == \".\") :\n",
    "          # Обработка только в случае, если не более одного минуса и точки\n",
    "    if (inintial_string.count(\".\") < 2) and (inintial_string.count(\"-\") < 2) :\n",
    "          # Удаление минуса в начале (при наличии)\n",
    "        if (inintial_string[0] == \"-\") : temp_string = inintial_string[1:]\n",
    "        else: temp_string = inintial_string\n",
    "          # Удаление точки (при наличии)\n",
    "        temp_string = temp_string.replace(\".\", \"\")\n",
    "          # проверка отсутствия иных знаков кроме цифр и вывод результата\n",
    "        if str.isdigit(temp_string) : print(inintial_string, \"->\", \"True\")\n",
    "        else: print(inintial_string, \"->\", \"False\")\n",
    "    else:\n",
    "        print(inintial_string, \"->\", \"False\")\n",
    "else:\n",
    "    print(inintial_string, \"->\", \"False\")"
   ],
   "outputs": [
    {
     "name": "stdout",
     "output_type": "stream",
     "text": [
      "-125.889* -> False\n"
     ]
    }
   ],
   "execution_count": 5
  }
 ],
 "metadata": {
  "kernelspec": {
   "display_name": ".venv (3.11.12)",
   "language": "python",
   "name": "python3"
  },
  "language_info": {
   "name": "python",
   "version": "3.11.12"
  }
 },
 "nbformat": 4,
 "nbformat_minor": 5
}
