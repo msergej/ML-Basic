{
 "cells": [
  {
   "cell_type": "markdown",
   "id": "a2c501e6",
   "metadata": {},
   "source": [
    "# Домашнее задание: Управляющие конструкции"
   ]
  },
  {
   "cell_type": "markdown",
   "id": "3e4cac4a",
   "metadata": {},
   "source": [
    "## Задание 1: Получение однозначного числа\n",
    "\n",
    "Пользователь вводит целое число, программа складывает все цифры числа, с полученным числом — то же самое, и так до тех пор, пока не получится однозначное число.\n",
    "\n",
    "<br>\n",
    "\n",
    "**Примеры:**\n",
    "* `545   -> 5`\n",
    "* `12345 -> 6`"
   ]
  },
  {
   "cell_type": "code",
   "id": "344e919f",
   "metadata": {
    "ExecuteTime": {
     "end_time": "2025-08-13T13:22:17.755815Z",
     "start_time": "2025-08-13T13:22:10.924321Z"
    }
   },
   "source": [
    "from distutils.command.install import value  # Запрос целого числа\n",
    "inintial_string = input(\"Введите целое положительное число:\")\n",
    "          # Обработка только в случае, если введено целое положительное число\n",
    "if str.isdigit(inintial_string) :\n",
    "    current_sum = 0           # Подсчет суммы цифр введенного числа\n",
    "    for i in range(len(inintial_string)): current_sum += int(inintial_string[i])\n",
    "    current_number = str(current_sum)\n",
    "          # Подсчет производится, пока промежуточное число не станет однозначным\n",
    "    while(current_sum > 9) :\n",
    "        current_sum = 0           # Подсчет суммы цифр текущего числа\n",
    "        for i in range(len(current_number)): current_sum += int(current_number[i])\n",
    "        current_number = str(current_sum)\n",
    "\n",
    "    print(inintial_string, \"->\", current_sum)\n",
    "else: print(\"Некорректный ввод!\")"
   ],
   "outputs": [
    {
     "name": "stdout",
     "output_type": "stream",
     "text": [
      "12345 -> 6\n"
     ]
    }
   ],
   "execution_count": 42
  },
  {
   "cell_type": "markdown",
   "id": "45527a4a",
   "metadata": {},
   "source": [
    "## Задание 2: Кинотеатр\n",
    "\n",
    "Дан список списков, каждый вложенный список состоит из 1 и 0, количество вложенных списков — количество рядов. Пользователь вводит, сколько билетов ему требуется. Программа должна найти ряд, где можно приобрести нужное количество билетов (места должны быть рядом). Если таких рядов несколько, то ближайший к экрану (ближайшим считается нулевой ряд). Если таких мест нет, то вывести False.\n",
    "\n",
    "<br>\n",
    "\n",
    "**Примеры:**\n",
    "* `[[0,1,1,0], [1,0,0,0], [0,1,0,0]], 2 -> 1`\n",
    "* `[[0,1,1,0], [1,0,1,0], [1,1,0,1]], 2 -> False`"
   ]
  },
  {
   "cell_type": "code",
   "id": "3a29082d",
   "metadata": {
    "ExecuteTime": {
     "end_time": "2025-08-13T13:24:10.056969Z",
     "start_time": "2025-08-13T13:24:06.520904Z"
    }
   },
   "source": [
    "rows = [[0,1,1,0], [1,1,0,0], [1,0,0,0]]          # Схема зрительного ряда со свободными (0) и занятыми (1) местами\n",
    "          # Запрос необходимого количества билетов\n",
    "inintial_str = input(\"Введите необходимое количество билетов:\")\n",
    "          # Обработка только в случае, если введено целое положительное число\n",
    "if str.isdigit(inintial_str) :\n",
    "    requested_seats_num = int(inintial_str)\n",
    "    passed_row = -1           # Сброс номера подходящего ряда\n",
    "    current_row = 0           # Начало проверки с первого ряда\n",
    "    while (passed_row < 0) and (current_row < len(rows)) :\n",
    "        free_seats = 0        # Сброс счетчика свободных мест\n",
    "        i = 0                 # Проверка до конца ряда или до нахождения необходимого числа свободных мест подряд\n",
    "        while (passed_row<0) and (free_seats<requested_seats_num) and (i<len(rows[current_row])) :\n",
    "            if (int(rows[current_row][i])==0) : free_seats += 1\n",
    "            else: free_seats = 0        # Сброс счетчика свободных мест, если при переборе встречается занятое место\n",
    "            if (free_seats >= requested_seats_num) : passed_row = current_row + 1         # Запись номера ряда при нахождении нужного количества мест подряд\n",
    "            i += 1\n",
    "\n",
    "        current_row += 1\n",
    "\n",
    "    if (passed_row > -1) : print(f\"{rows} -> True (ряд {passed_row})\")\n",
    "    else: print(rows, \"-> False\")\n",
    "else: print(\"Некорректный ввод!\")"
   ],
   "outputs": [
    {
     "name": "stdout",
     "output_type": "stream",
     "text": [
      "[[0, 1, 1, 0], [1, 1, 0, 0], [1, 0, 0, 0]] -> True (ряд 2)\n"
     ]
    }
   ],
   "execution_count": 49
  },
  {
   "cell_type": "markdown",
   "id": "7b7f098c",
   "metadata": {},
   "source": [
    "## Задание 3: Алгоритм RLE\n",
    "\n",
    "Необходимо написать упрощенную версию алгоритма RLE. \n",
    "Алгоритм RLE объединяет подряд идущие символы в коэффициент и символ.\n",
    "\n",
    "<br>\n",
    "\n",
    "**Примеры:**\n",
    "* `asssdddsssddd -> 1a3s3d3s3d`\n",
    "* `aaabbbbccccc  -> 3a4b5c`\n",
    "* `abcba         -> 1a1b1c1b1a`"
   ]
  },
  {
   "cell_type": "code",
   "id": "e0d30ec2",
   "metadata": {
    "ExecuteTime": {
     "end_time": "2025-08-13T13:24:38.424097Z",
     "start_time": "2025-08-13T13:24:35.557638Z"
    }
   },
   "source": [
    "          # Запрос строки для обработки по алгоритму LRE\n",
    "inintial_str = input(\"Введите текстовую строку:\")\n",
    "\n",
    "result_str = \"\"\n",
    "residual_str = inintial_str        # Формирование промежуточной строки\n",
    "          # Разбор промежуточной строки до ее завершения\n",
    "while len(residual_str) > 0 :\n",
    "    current_character = residual_str[0]\n",
    "    character_counter = 1          # Подсчет символа до завершения промежуточной строки или до нахождения другого символа\n",
    "    while (character_counter < len(residual_str)) and (residual_str[character_counter] == residual_str[0]) : character_counter += 1\n",
    "    result_str = result_str + str(character_counter) + residual_str[0]\n",
    "    residual_str = residual_str[character_counter:]         # Формирование новой промежуточной строки из остатка обработанной\n",
    "\n",
    "print(inintial_str, \"->\", result_str)"
   ],
   "outputs": [
    {
     "name": "stdout",
     "output_type": "stream",
     "text": [
      "aaabbbbccccc -> 3a4b5c\n"
     ]
    }
   ],
   "execution_count": 50
  },
  {
   "cell_type": "markdown",
   "id": "f24d5e58",
   "metadata": {},
   "source": [
    "## Задание 4: Шифр Цезаря\n",
    "\n",
    "Реализуйте программу для шифрования текста с помощью шифра Цезаря.  \n",
    "Шифр Цезаря — это метод шифрования, при котором каждая буква в тексте заменяется буквой, стоящей на фиксированное число позиций дальше в алфавите.\n",
    "\n",
    "### Требования\n",
    "1. Программа должна принимать на вход:\n",
    "   - Строку текста для шифрования\n",
    "   - Ключ шифра (число от 0 до 25)\n",
    "\n",
    "2. Правила шифрования:\n",
    "   - Шифруются только латинские буквы (a-z, A-Z)\n",
    "   - Сохраняется регистр букв (заглавные остаются заглавными)\n",
    "   - Пробелы, цифры и знаки препинания остаются без изменений\n",
    "   - Сдвиг циклический (после 'z' идет 'a', после 'Z' идет 'A')\n",
    "\n",
    "### Примеры\n",
    "\n",
    "* `\"Hello World\", 3      -> \"Khoor Zruog\"`\n",
    "* `\"Python is great!\", 5 -> \"Udymts nx lwjfy!\"`\n",
    "* `\"XYZ abc\", 3          -> \"ABC def\"`\n",
    "* `\"Test 123\", 1         -> \"Uftu 123\"`\n",
    "\n",
    "### Алгоритм\n",
    "* Для каждого символа в строке:\n",
    "   - Если это латинская буква, найти её позицию в алфавите\n",
    "   - Добавить к позиции значение ключа\n",
    "   - Если результат больше 25, использовать остаток от деления на 26\n",
    "   - Преобразовать обратно в букву, сохранив регистр\n",
    "   - Если это не буква, оставить символ без изменений\n"
   ]
  },
  {
   "cell_type": "code",
   "id": "6a075d20",
   "metadata": {
    "ExecuteTime": {
     "end_time": "2025-08-14T07:36:26.880253Z",
     "start_time": "2025-08-14T07:36:21.695468Z"
    }
   },
   "source": [
    "inintial_str = input(\"Введите строку для шифрования:\")      # Запрос строки и кода шифрования\n",
    "code_str = input(\"Введите код шифрования (целое число до 0 до 25 включительно):\")\n",
    "          # Обработка только в случае, если введено целое число от 0 до 25\n",
    "if (int(code_str) >= 0) and (int(code_str) <= 25) :\n",
    "    alpha_lower_str = \"abcdefghijklmnopqrstuvwxyz\"\n",
    "    result_str = \"\"\n",
    "    for i in range(len(inintial_str)) : # Обработка буквы нижнего регистра\n",
    "        if (inintial_str[i] in alpha_lower_str) : result_str += alpha_lower_str[(alpha_lower_str.find(inintial_str[i]) + int(code_str)) % 26]                        # Обработка буквы верхнего регистра\n",
    "        elif (inintial_str[i] in alpha_lower_str.upper()) : result_str += alpha_lower_str[(alpha_lower_str.find(inintial_str[i].lower()) + int(code_str)) % 26].upper()\n",
    "        else: result_str += inintial_str[i]\n",
    "\n",
    "    print(f'\"{inintial_str}\", {code_str} -> \"{result_str}\"')\n",
    "else: print(\"Некорректный код шифрования!\")\n",
    "          # \"Sbkf, Sfaf, Sfzf (D. G. Zxbpxo, 47 YZ)\" -> (3) \"Veni, Vidi, Vici (G. J. Caesar, 47 BC)\""
   ],
   "outputs": [
    {
     "name": "stdout",
     "output_type": "stream",
     "text": [
      "\"Sbkf, Sfaf, Sfzf (D. G. Zxbpxo, 47 YZ)\", 3 -> \"Veni, Vidi, Vici (G. J. Caesar, 47 BC)\"\n"
     ]
    }
   ],
   "execution_count": 42
  },
  {
   "cell_type": "markdown",
   "id": "c88bf52c",
   "metadata": {},
   "source": [
    "## Задание 5: Табель успеваемости\n",
    "\n",
    "Пользователь в бесконечном цикле (пока не будет введена пустая строка) вводит строки вида: 'название предмета' 'фамилия ученика' 'оценка'. После окончания ввода программа выводит в консоль название предмета, далее список учеников и все их оценки в виде таблицы.\n",
    "\n",
    "<br>\n",
    "\n",
    "**Примеры:**\n",
    "\n",
    "<br>\n",
    "\n",
    "*Ввод:*\n",
    "```python\n",
    "Математика Иванов  5\n",
    "Математика Иванов  4\n",
    "Литература Иванов  3\n",
    "Математика Петров  5\n",
    "Литература Сидоров 3\n",
    "Литература Петров  5\n",
    "Литература Иванов  4\n",
    "Математика Сидоров 3\n",
    "Математика Петров  5\n",
    "```\n",
    "\n",
    "<br>\n",
    "\n",
    "*Результат:*\n",
    "```python\n",
    "Математика # вводим название предмета\n",
    "\n",
    "# выводим список учеников и их оценки\n",
    "Иванов  5 4\n",
    "Петров  5 5\n",
    "Сидоров 3\n",
    "```\n",
    "\n",
    "```python\n",
    "Литература # вводим название предмета\n",
    "\n",
    "# выводим список учеников и их оценки\n",
    "Иванов  3 4\n",
    "Сидоров 3\n",
    "Петров  5\n",
    "```"
   ]
  },
  {
   "cell_type": "code",
   "id": "196f6ff4",
   "metadata": {
    "ExecuteTime": {
     "end_time": "2025-08-15T08:24:50.858258Z",
     "start_time": "2025-08-15T08:24:47.600144Z"
    }
   },
   "source": [
    "initial_list = []   # Создание списка\n",
    "initial_list = [[\"Математика\", \"Иванов\", \"5\"], [\"Математика\", \"Иванов\", \"4\"], [\"Литература\", \"Иванов\", \"3\"], [\"Математика\", \"Петров\", \"5\"], [\"Литература\", \"Сидоров\", \"3\"], [\"Литература\", \"Петров\", \"5\"], [\"Литература\", \"Иванов\", \"4\"], [\"Математика\", \"Сидоров\", \"3\"], [\"Математика\", \"Петров\", \"5\"]]\n",
    "initial_str = \" \"   # Строка для импорта данных о предмете, студенте и оценке (как только станет пустой, сбор данных прекратится)\n",
    "          # Запрос данных и заполнение списка\n",
    "# while initial_str:\n",
    "#     initial_str = input(\"Введите предмет, фамилию и оценку. Подтвердите пустую строку для завершения ввода:\")\n",
    "#     if initial_str : initial_list.append(initial_str.split())\n",
    "# print(initial_str, initial_list)\n",
    "          # Запрос и вывод результатов каждого студента по заданному предмету\n",
    "subject_str = input(\"Введите наименование предмета:\")\n",
    "subject_list = []\n",
    "subject_dict = {}\n",
    "for i in range(len(initial_list)) :\n",
    "    if initial_list[i][0] == subject_str :        # Обработка списка по заданному предмету (обновление или добавление в словаре-результате)\n",
    "        if initial_list[i][1] in subject_dict : subject_dict[initial_list[i][1]] += (\",\" + initial_list[i][2])\n",
    "        else: subject_dict[initial_list[i][1]] = initial_list[i][2]\n",
    "print(subject_str + \":\")\n",
    "for key, value in subject_dict.items() : print(key, value)"
   ],
   "outputs": [
    {
     "name": "stdout",
     "output_type": "stream",
     "text": [
      "Литература:\n",
      "Иванов 3,4\n",
      "Сидоров 3\n",
      "Петров 5\n"
     ]
    }
   ],
   "execution_count": 23
  },
  {
   "metadata": {},
   "cell_type": "code",
   "outputs": [],
   "execution_count": null,
   "source": "",
   "id": "134c6a88604f1b30"
  }
 ],
 "metadata": {
  "kernelspec": {
   "display_name": ".venv (3.11.12)",
   "language": "python",
   "name": "python3"
  },
  "language_info": {
   "codemirror_mode": {
    "name": "ipython",
    "version": 3
   },
   "file_extension": ".py",
   "mimetype": "text/x-python",
   "name": "python",
   "nbconvert_exporter": "python",
   "pygments_lexer": "ipython3",
   "version": "3.11.12"
  }
 },
 "nbformat": 4,
 "nbformat_minor": 5
}
