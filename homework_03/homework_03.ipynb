{
 "cells": [
  {
   "cell_type": "markdown",
   "id": "e2450ffa",
   "metadata": {},
   "source": [
    "# Домашнее задание: Функции"
   ]
  },
  {
   "cell_type": "markdown",
   "id": "8d062500",
   "metadata": {},
   "source": [
    "## Задание 1: Конвертер регистров\n",
    "\n",
    "Написать функцию, которая будет переводить snake_case в PascalCase и наоборот. \n",
    "\n",
    "Функция должна сама определять - какой формат ей передали. Можно добавить ключевой аргумент, который будет принудительно возвращать один из форматов.\n",
    "\n",
    "<br>\n",
    "\n",
    "**Примеры:**\n",
    "* `otus_course     -> OtusCourse`\n",
    "* `PythonIsTheBest -> python_is_the_best`\n",
    "\n"
   ]
  },
  {
   "cell_type": "code",
   "id": "ec0075f5",
   "metadata": {
    "ExecuteTime": {
     "end_time": "2025-08-21T13:57:05.846594Z",
     "start_time": "2025-08-21T13:57:03.032272Z"
    }
   },
   "source": [
    "from itertools import count\n",
    "\n",
    "\n",
    "def initial_string_check(initial_string) :\n",
    "          # Функция проверки отсутствия цифры в начале, а также отсутствия символов, запрещенных в наименовании переменных (True - запрещенных символов и цифры в начале нет)\n",
    "    if initial_string[0].isdigit() : return False\n",
    "    for i in range (len(initial_string)) :\n",
    "        if ((initial_string[i] != '_') and not initial_string[i].isdigit() and not initial_string[i].isalpha()) : return False\n",
    "    return True\n",
    "\n",
    "def pascal_snake_converter(initial_string, convert_code = 1) :\n",
    "         # Функция конвертации (если код 0, то всегда возвращается Snake-строка)\n",
    "         # Если есть и заглавные буквы и подчеркивания, то конвертация не производится\n",
    "    if ((\"_\" in initial_string) and (initial_string != initial_string.lower())) : return print(\"Строка непонятного стиля: содержит и подчеркивания и заглавные буквы (\", initial_string, \"), поэтому конвертация не производится!\")\n",
    "         # Если первый символ строчный, но нет подчеркивания, то конвертация не производится\n",
    "    if (initial_string[0].islower() and not (\"_\" in initial_string)) : return print(\"Строка непонятного стиля: начинается со строчного символа, но не содержит подчеркивания (\", initial_string, \"), поэтому конвертация не производится!\")\n",
    "         # Если первый символ заглавный, то строка это Pascal-строка и она конвертируется\n",
    "    if initial_string[0].isupper() :\n",
    "        result_string = initial_string[0].lower()          # Установка первого символа и перебор строки со второго символа\n",
    "        for i in range (len(initial_string[1:])) :\n",
    "            if initial_string[i+1].isupper() :\n",
    "                result_string += (\"_\" + initial_string[i+1].lower())\n",
    "            else : result_string += initial_string[i+1]\n",
    "        return print(initial_string, \"->\", result_string)\n",
    "          # Если первый символ не заглавный, но указан код обязательной Snake-строки, то конвертация в Pascal-строку не производится\n",
    "    elif (convert_code == 0) : return print(initial_string, \"->\", initial_string, \"(установлен код возврата Snake-строки)\")\n",
    "    else:           # Если первый символ не заглавный, не указан код обязательной Snake-строки, то производится конвертация в Pascal-строку\n",
    "        result_string = \"\"              # Установка пустой результирующей строки\n",
    "        new_word = 0                    # Установка нулевого счетчика нового слова\n",
    "        i = 0                           # Перебор исходной строки с первого символа\n",
    "        while i < len(initial_string) :\n",
    "            if (initial_string[i] == \"_\") :       # Если очередной символ подчеркивание, то проверяем следующий символ и конец строки\n",
    "                new_word = 0            # Подчеркивание отмечает начало нового слова\n",
    "                if (i < (len(initial_string) - 1)) :\n",
    "                    if initial_string[i+1].isdigit() :      # Если цифра, то ее добавляем к результату и увеличиваем счетчик на 2\n",
    "                        result_string += initial_string[i+1]\n",
    "                        i += 2\n",
    "                    elif initial_string[i+1].isalpha() :    # Если буква, то ее заглавный вариант добавляем к результату и увеличиваем счетчик на 2\n",
    "                        result_string += initial_string[i+1].upper()\n",
    "                        new_word += 1   # Начато новое слово\n",
    "                        i += 2\n",
    "                    else: i += 1        # Если не буква и не цифра, (подчеркивание), то пропускаем его\n",
    "                else: i += 1            # Если подчеркивание является последним символом, то пропускаем его\n",
    "                new_word += 1\n",
    "            elif initial_string[i].isalpha() :    # Если буква, то, если она первая в новой последовательности (слове), то ее заглавный вариант добавляем к результату\n",
    "                if (len(result_string) > 0) :\n",
    "                    if result_string[len(result_string)-1].isupper() or (new_word > 0) : result_string += initial_string[i]\n",
    "                    else: result_string += initial_string[i].upper()\n",
    "                else: result_string += initial_string[i].upper()\n",
    "                new_word += 1\n",
    "                i += 1\n",
    "            else :                      # Если цифра, то ее добавляем к результату\n",
    "                result_string += initial_string[i]\n",
    "                i += 1\n",
    "        return print(initial_string, \"->\", result_string)\n",
    "\n",
    "initial_string = input(\"Введите строку для конвертации:\")\n",
    "if initial_string_check(initial_string) : pascal_snake_converter(initial_string)\n",
    "else: print(\"Строка не является допустимым именем переменной (\", initial_string, \")!\")"
   ],
   "outputs": [
    {
     "name": "stdout",
     "output_type": "stream",
     "text": [
      "once_upon_а_time_in_america -> OnceUponАTimeInAmerica\n"
     ]
    }
   ],
   "execution_count": 76
  },
  {
   "cell_type": "markdown",
   "id": "b8253fb9",
   "metadata": {},
   "source": [
    "## Задание 2: Проверка валидности даты\n",
    "\n",
    "Написать функцию проверяющую валидность введенной даты.\n",
    "\n",
    "<br>\n",
    "\n",
    "**Примеры:**\n",
    "* `29.02.2000 -> True`\n",
    "* `29.02.2001 -> False`\n",
    "* `31.04.1962 -> False`\n",
    "\n"
   ]
  },
  {
   "cell_type": "code",
   "id": "e7f4e9c8",
   "metadata": {
    "ExecuteTime": {
     "end_time": "2025-08-23T17:47:42.549236Z",
     "start_time": "2025-08-23T17:47:00.304301Z"
    }
   },
   "source": [
    "def date_validation(initial_string) :\n",
    "          # Функция проверки текстовой строки на предмет действующей даты\n",
    "    splitted_str = initial_string.split('.')      # Резделение исходной строки на предполагаемые день [0], месяц [1] и год [2]\n",
    "    if (int(splitted_str[1]) > 0) and (int(splitted_str[1]) < 13) :   # Осуществление проверки, если корректный номер месяца\n",
    "        leap_year = False     # По-умолчанию рассматривается невисокосный год\n",
    "        if not (int(splitted_str[2]) % 4) ^ (not (int(splitted_str[2]) % 100) and ((int(splitted_str[2]) // 100) % 4)) : leap_year = True\n",
    "          # Проверка числа дней месяца (февраль; январь & март & май & июль & август & октябрь & декабрь; остальные месяцы)\n",
    "        if (int(splitted_str[1]) == 2) and ((not leap_year and ((int(splitted_str[0]) > 0) and (int(splitted_str[0]) < 29))) or (leap_year and ((int(splitted_str[0]) > 0) and (int(splitted_str[0]) < 30)))) : return True\n",
    "        elif (int(splitted_str[1]) in(1,3,5,7,8,10,12)) and ((int(splitted_str[0]) > 0) and (int(splitted_str[0]) < 32)) : return True\n",
    "        elif (int(splitted_str[1]) in(4,6,9,11)) and ((int(splitted_str[0]) > 0) and (int(splitted_str[0]) < 31)) : return True\n",
    "        else: return False\n",
    "    else: return False\n",
    "\n",
    "initial_string = input(\"Введите дату в формате DD.MM.YYYY:\")\n",
    "          # Проверка на дату только, если длина строки 10 символов, и в ней имеются две точки\n",
    "if (len(initial_string) == 10) and (initial_string.count('.') == 2) : print(initial_string, \"->\", date_validation(initial_string))\n",
    "else: print(\"Строка не является допустимой датой в переделах между 01.01.0000 и 31.12.9999 (\", initial_string, \")!\")"
   ],
   "outputs": [
    {
     "name": "stdout",
     "output_type": "stream",
     "text": [
      "31.01.1304 -> True\n"
     ]
    }
   ],
   "execution_count": 38
  },
  {
   "cell_type": "markdown",
   "id": "2d77053e",
   "metadata": {},
   "source": [
    "## Задание 3: Проверка на простое число\n",
    "\n",
    "Функция проверки на простое число. Простые числа – это такие числа, которые делятся на себя и на единицу.\n",
    "\n",
    "<br>\n",
    "\n",
    "**Примеры:**\n",
    "* `17 -> True`\n",
    "* `20 -> False`\n",
    "* `23 -> True`"
   ]
  },
  {
   "cell_type": "code",
   "id": "c20728f6",
   "metadata": {
    "ExecuteTime": {
     "end_time": "2025-08-24T06:17:12.586943Z",
     "start_time": "2025-08-24T06:17:04.848768Z"
    }
   },
   "source": [
    "def prime_number_check (initial_number) :\n",
    "          # Проверка делимости исходного числа на натуральные числа от 2 до округленного и увеличенного на единицу квадратного корня числа\n",
    "    for i in range(2, int(initial_number ** 0.5) + 1):\n",
    "        if not (initial_number % i) : return False\n",
    "    return True\n",
    "\n",
    "inintial_string = input(\"Введите число для проверки:\")\n",
    "          # Обработка только в случае, если введено целое положительное число\n",
    "if (int(inintial_string) > 0) : print(inintial_string, \"->\", prime_number_check(int(inintial_string)))\n",
    "else: print(\"Проверка осуществляется только для целых положительных чисел!\")"
   ],
   "outputs": [
    {
     "name": "stdout",
     "output_type": "stream",
     "text": [
      "431 -> True\n"
     ]
    }
   ],
   "execution_count": 10
  },
  {
   "cell_type": "markdown",
   "id": "29703efe",
   "metadata": {},
   "source": [
    "## Задание 4: Учет пользователей\n",
    "\n",
    "Пользователь в бесконечном цикле вводит данные пользователей: имя, затем фамилию, возраст и ID. Ввод продолжается до тех пор, пока не будет введено пустое поле. \n",
    "\n",
    "Пользователи заносятся в словарь, где ключ это ID пользователя, а остальные данные записываются в виде кортежа. \n",
    "\n",
    "**Программа должна проверять:**\n",
    "* имя и фамилия состоят только из символов и начинаются с большой буквы - если не с большой, то заменяет букву на большую;\n",
    "* возраст должен быть числом от 18 до 60;\n",
    "* ID - целое число, дополненное до 8 знаков незначащими нулями, ID должен быть уникальным.\n",
    "\n",
    "**Дополнительно:** написать функцию, которая будет выводить полученный словарь в виде таблицы."
   ]
  },
  {
   "metadata": {
    "ExecuteTime": {
     "end_time": "2025-08-25T10:02:42.320849Z",
     "start_time": "2025-08-25T10:00:34.677281Z"
    }
   },
   "cell_type": "code",
   "source": [
    "user_register = {}  # Создание готового списка\n",
    "          # Функция формирует полноценный ID (дополняет незначащими нулями в начале)\n",
    "def completing_ID (id_str) :\n",
    "    for i in range (len(id_str), 8) : id_str = \"0\" + id_str\n",
    "    return id_str\n",
    "          # Функция печатает словарь как таблицу\n",
    "def dict_as_table_print (user_register) :\n",
    "    print('{:<9} {:<25} {:<25} {:<3}'.format(\"ID\", \"Фамилия\", \"Имя\", \"Возраст\"))\n",
    "    for user_id, user_data in user_register.items():\n",
    "        print('{:<9} {:<25} {:<25} {:<3}'.format(user_id, user_data[0], user_data[1], user_data[2]))\n",
    "    return\n",
    "          # Функция запрашивает данные и заполняет словарь\n",
    "def data_input (user_register) :\n",
    "    error_str = \"\"\n",
    "    input_name = \"\"\n",
    "    input_surname = \"\"\n",
    "    input_age = \"\"\n",
    "    input_ID = \"\"\n",
    "    word_number = 0     # Порядковый номер введенного значения (увеличивается после каждого ввода, остаток от деления на 4 указывает, какое именно значение было введено)\n",
    "    input_word = input(\"Введите фамилию:\")\n",
    "    while input_word :\n",
    "        if (word_number % 4) == 0 :\n",
    "            if input_word.isalpha() :\n",
    "                if input_word[0].islower() : input_word = input_word[0].upper() + input_word[1:]\n",
    "                input_name = input_word\n",
    "            else: input_name = \"\" # Сброс строки с фамилией, если она не является корректным (только буквы)\n",
    "            error_str = input_word          # Запись введенной фамилии (на случай ошибки)\n",
    "            word_number += 1      # Следующее считываемое слово будет содержать имя\n",
    "            input_word = input(\"Введите имя:\")\n",
    "        elif (word_number % 4) == 1 :\n",
    "            if input_word.isalpha() :\n",
    "                if input_word[0].islower() : input_word = input_word[0].upper() + input_word[1:]\n",
    "                input_surname = input_word\n",
    "            else: input_surname = \"\"        # Сброс строки с именем, если оно не является корректным (только буквы)\n",
    "            error_str += (\", \" + input_word)          # Запись введенного имени (на случай ошибки)\n",
    "            word_number += 1      # Следующее считываемое слово будет содержать возраст\n",
    "            input_word = input(\"Введите возраст:\")\n",
    "        elif (word_number % 4) == 2 :\n",
    "            if input_word.isdigit() :\n",
    "                if (int(input_word) >= 18) and (int(input_word) <= 60) : input_age = input_word\n",
    "                else: input_age = \"\"    # Сброс строки с возрастом, если он не в нужном диапазоне\n",
    "            else:\n",
    "                input_age = \"\"    # Сброс строки с возрастом, если он не является целым числом от 18 до 60\n",
    "            error_str += (\", \" + input_word)          # Запись введенного возраста (на случай ошибки)\n",
    "            word_number += 1      # Следующее считываемое слово будет содержать код\n",
    "            input_word = input(\"Введите уникальный ID:\")\n",
    "        else :\n",
    "            if input_word.isdigit() :\n",
    "                if (int(input_word) >= 0) and (int(input_word) <= 99999999) :\n",
    "                    input_ID = completing_ID(input_word)    # Дополнение уникального кода незначащими нулями, если он в нужном диапазоне\n",
    "                    if input_ID in user_register : input_ID = \"\"\n",
    "                else: input_ID = \"\"     # Сброс строки с ID, если он не в нужном диапазоне\n",
    "            else: input_ID = \"\"         # Сброс строки с ID, если он не является целым положительным числом\n",
    "            error_str += (\", \" + input_word)          # Запись некорректно введенного ID\n",
    "            word_number += 1      # Следующее считываемое слово будет содержать фамилию\n",
    "            input_word = input(\"Введите фамилию:\")    # Следующее считываемое слово будет содержать фамилию\n",
    "          # Если 4 раза считанны корректные данные, запись добавляется в регистр\n",
    "        if ((word_number % 4) == 0) and (input_name and input_surname and input_age and input_ID) :\n",
    "            user_register[input_ID] = (input_name, input_surname, int(input_age))\n",
    "            error_str = \"\"\n",
    "        else:\n",
    "            if ((word_number % 4) == 0) :\n",
    "                print(\"Некорректные данные или неуникальный ID (\", error_str , \")!\")\n",
    "                error_str = \"\"\n",
    "    return user_register\n",
    "\n",
    "print(data_input(user_register))\n",
    "dict_as_table_print(user_register)"
   ],
   "id": "54d1f971",
   "outputs": [
    {
     "name": "stdout",
     "output_type": "stream",
     "text": [
      "Некорректные данные или неуникальный ID ( Cc, Dd, 21, D )!\n",
      "Некорректные данные или неуникальный ID ( Ee, Ff, 21, -1 )!\n",
      "Некорректные данные или неуникальный ID ( Gg, Hh, 21, 123456789 )!\n",
      "Некорректные данные или неуникальный ID ( Ii, Jj, 21, 1 )!\n",
      "Некорректные данные или неуникальный ID ( Kk, Ll, 17, 2 )!\n",
      "{'00000001': ('Aa', 'Bb', 21), '00000002': ('Mm', 'Nn', 21)}\n",
      "ID        Фамилия                   Имя                       Возраст\n",
      "00000001  Aa                        Bb                        21 \n",
      "00000002  Mm                        Nn                        21 \n"
     ]
    }
   ],
   "execution_count": 65
  },
  {
   "metadata": {
    "ExecuteTime": {
     "end_time": "2025-08-25T09:55:47.706756Z",
     "start_time": "2025-08-25T09:53:17.007070Z"
    }
   },
   "cell_type": "code",
   "source": [
    "user_register = {}  # Создание готового списка\n",
    "          # Функция формирует полноценный ID (дополняет незначащими нулями в начале)\n",
    "def completing_ID (id_str) :\n",
    "    for i in range (len(id_str), 8) : id_str = \"0\" + id_str\n",
    "    return id_str\n",
    "          # Функция печатает словарь как таблицу\n",
    "def dict_as_table_print (user_register) :\n",
    "    print('{:<9} {:<25} {:<25} {:<3}'.format(\"ID\", \"Фамилия\", \"Имя\", \"Возраст\"))\n",
    "    for user_id, user_data in user_register.items():\n",
    "        print('{:<9} {:<25} {:<25} {:<3}'.format(user_id, user_data[0], user_data[1], user_data[2]))\n",
    "    return\n",
    "          # Функция запрашивает данные и заполняет словарь\n",
    "def data_input (user_register) :\n",
    "    error_str = \"\"\n",
    "    input_name = \"\"\n",
    "    input_surname = \"\"\n",
    "    input_age = \"\"\n",
    "    input_ID = \"\"\n",
    "    word_number = 0     # Порядковый номер введенного значения (увеличивается после каждого ввода, остаток от деления на 4 указывает, какое именно значение было введено)\n",
    "    input_word = input(\"Введите фамилию:\")\n",
    "    while input_word :\n",
    "        if (word_number % 4) == 0 :\n",
    "            if input_word.isalpha() :\n",
    "                if input_word[0].islower() : input_word = input_word[0].upper() + input_word[1:]\n",
    "                input_name = input_word\n",
    "            else: input_name = \"\" # Сброс строки с фамилией, если она не является корректным (только буквы)\n",
    "            error_str = input_word          # Запись введенной фамилии (на случай ошибки)\n",
    "            word_number += 1      # Следующее считываемое слово будет содержать имя\n",
    "            input_word = input(\"Введите имя:\")\n",
    "        elif (word_number % 4) == 1 :\n",
    "            if input_word.isalpha() :\n",
    "                if input_word[0].islower() : input_word = input_word[0].upper() + input_word[1:]\n",
    "                input_surname = input_word\n",
    "            else: input_surname = \"\"        # Сброс строки с именем, если оно не является корректным (только буквы)\n",
    "            error_str += (\", \" + input_word)          # Запись введенного имени (на случай ошибки)\n",
    "            word_number += 1      # Следующее считываемое слово будет содержать возраст\n",
    "            input_word = input(\"Введите возраст:\")\n",
    "        elif (word_number % 4) == 2 :\n",
    "            if input_word.isdigit() :\n",
    "                if (int(input_word) >= 18) and (int(input_word) <= 60) : input_age = input_word\n",
    "            else:\n",
    "                input_age = \"\"    # Сброс строки с возрастом, если он не является корректным (от 18 до 60)\n",
    "            error_str += (\", \" + input_word)          # Запись введенного возраста (на случай ошибки)\n",
    "            word_number += 1      # Следующее считываемое слово будет содержать код\n",
    "            input_word = input(\"Введите уникальный ID:\")\n",
    "        else :\n",
    "            if input_word.isdigit() :\n",
    "                if (int(input_word) >= 0) and (int(input_word) <= 99999999) :\n",
    "                    input_ID = completing_ID(input_word)    # Дополнение уникального кода незначащими нулями, если он в нужном диапазоне\n",
    "                    if input_ID in user_register : input_ID = \"\"\n",
    "                else: input_ID = \"\"     # Сброс строки с ID, если он не в нужном диапазоне\n",
    "            else: input_ID = \"\"         # Сброс строки с ID, если он не является целым положительным числом\n",
    "            error_str += (\", \" + input_word)          # Запись некорректно введенного ID\n",
    "            word_number += 1      # Следующее считываемое слово будет содержать фамилию\n",
    "            input_word = input(\"Введите фамилию:\")    # Следующее считываемое слово будет содержать фамилию\n",
    "          # Если 4 раза считанны корректные данные, запись добавляется в регистр\n",
    "        if ((word_number % 4) == 0) and (input_name and input_surname and input_age and input_ID) :\n",
    "            user_register[input_ID] = (input_name, input_surname, int(input_age))\n",
    "            error_str = \"\"\n",
    "        else:\n",
    "            if ((word_number % 4) == 0) :\n",
    "                print(\"Некорректные данные или неуникальный ID (\", error_str , \")!\")\n",
    "                error_str = \"\"\n",
    "    return user_register\n",
    "\n",
    "print(data_input(user_register))\n",
    "dict_as_table_print(user_register)"
   ],
   "id": "446e2d4ad360feb5",
   "outputs": [
    {
     "name": "stdout",
     "output_type": "stream",
     "text": [
      "Некорректные данные или неуникальный ID ( Cc, Dd, 23, 99 )!\n",
      "Некорректные данные или неуникальный ID ( Ee, Ff, 23, -1 )!\n",
      "Некорректные данные или неуникальный ID ( Gg, Hh, 23, GG )!\n",
      "Некорректные данные или неуникальный ID ( Ii, Jj, 23, 1234567890 )!\n",
      "{'00000099': ('Aa', 'Bb', 23), '00002345': ('Kk', 'Ll', 23), '00000100': ('Mm', 'Nn', 23)}\n",
      "ID        Фамилия                   Имя                       Возраст\n",
      "00000099  Aa                        Bb                        23 \n",
      "00002345  Kk                        Ll                        23 \n",
      "00000100  Mm                        Nn                        23 \n"
     ]
    }
   ],
   "execution_count": 63
  },
  {
   "metadata": {
    "ExecuteTime": {
     "end_time": "2025-08-25T09:17:35.379774Z",
     "start_time": "2025-08-25T09:17:35.366727Z"
    }
   },
   "cell_type": "code",
   "source": [
    "initial_dict = {0 : (\"Математика\", \"Иванов\", 5), 1 : (\"Математика\", \"Иванов\", 4), 2 : (\"Литература\", \"Иванов\", 3), 3 : (\"Математика\", \"Петров\", 5), 10 : (\"Литература\", \"Сидоров\", 3), 11 : (\"Литература\", \"Петров\", 5), 20 : (\"Литература\", \"Иванов\", 4), 30 : (\"Математика\", \"Сидоров\", 3), 100 : (\"Математика\", \"Петров\", 5)}\n",
    "\n",
    "print('{:<10} {:<20} {:<20} {:<4}'.format(\"ID\", \"Фамилия\", \"Имя\", \"Возраст\"))\n",
    "#    print('{:<10} {:<20}'.format(\"ID\", \"Фамилия\"))\n",
    "for user_id, user_data in initial_dict.items():\n",
    "#    for n, sn, age, id_ in user_register.items.values():\n",
    "#    print(user_data[0], user_id)\n",
    "\n",
    "    print('{:<10} {:<20} {:<20} {:<4}'.format(user_id, user_data[0], user_data[1], user_data[2]))\n",
    "\n"
   ],
   "id": "ed52c386edcd4545",
   "outputs": [
    {
     "name": "stdout",
     "output_type": "stream",
     "text": [
      "ID         Фамилия              Имя                  Возраст\n",
      "0          Математика           Иванов               5   \n",
      "1          Математика           Иванов               4   \n",
      "2          Литература           Иванов               3   \n",
      "3          Математика           Петров               5   \n",
      "10         Литература           Сидоров              3   \n",
      "11         Литература           Петров               5   \n",
      "20         Литература           Иванов               4   \n",
      "30         Математика           Сидоров              3   \n",
      "100        Математика           Петров               5   \n"
     ]
    }
   ],
   "execution_count": 53
  },
  {
   "metadata": {},
   "cell_type": "code",
   "outputs": [],
   "execution_count": null,
   "source": "# initial_dict = {0 : [\"Математика\", \"Иванов\", \"5\"], 1 : [\"Математика\", \"Иванов\", \"4\"], 2 : [\"Литература\", \"Иванов\", \"3\"], 3 : [\"Математика\", \"Петров\", \"5\"], 10 : [\"Литература\", \"Сидоров\", \"3\"], 11 : [\"Литература\", \"Петров\", \"5\"], 20 : [\"Литература\", \"Иванов\", \"4\"], 30 : [\"Математика\", \"Сидоров\", \"3\"], 100 : [\"Математика\", \"Петров\", \"5\"]}",
   "id": "dc0132939930056b"
  }
 ],
 "metadata": {
  "kernelspec": {
   "display_name": ".venv (3.11.12)",
   "language": "python",
   "name": "python3"
  },
  "language_info": {
   "name": "python",
   "version": "3.11.12"
  }
 },
 "nbformat": 4,
 "nbformat_minor": 5
}
