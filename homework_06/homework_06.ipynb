{
 "cells": [
  {
   "cell_type": "markdown",
   "metadata": {
    "id": "rL70m2sic0jV"
   },
   "source": [
    "# “Git push -f” или после нас хоть потоп"
   ]
  },
  {
   "cell_type": "markdown",
   "metadata": {
    "id": "JVd5jRlPc0jY"
   },
   "source": [
    "# 0. Где мы сейчас?\n",
    "<img src=\"https://upload.wikimedia.org/wikipedia/commons/thumb/3/38/Jupyter_logo.svg/1200px-Jupyter_logo.svg.png\" width=\"150\">\n",
    "\n",
    "[Jupyter Notebook](https://jupyter.org/) - интерактивная среда для запуска программного кода в браузере. Удобный инструмент для анализа данных, который используется многими специалистами по data science. Позволяет выполнять отдельные ячейки с кодом, а не всю программу сразу, что очень удобно при знакомстве с данными."
   ]
  },
  {
   "cell_type": "markdown",
   "metadata": {
    "id": "k8hj3Kdvc0jZ"
   },
   "source": [
    "# 1. Python\n",
    "> Python - это свободный интерпретируемый объектно-ориентированный расширяемый встраиваемый язык программирования очень высокого уровня\n",
    "\n",
    ">*(Г.Россум, Ф.Л.Дж.Дрейк, Д.С.Откидач \"Язык программирования Python\").*\n",
    "\n",
    "А если без цитат, то питон - это просто очень крутой язык, созданный в 1991 году [Великодушным пожизненным диктатором](https://ru.wikipedia.org/wiki/%D0%92%D0%B5%D0%BB%D0%B8%D0%BA%D0%BE%D0%B4%D1%83%D1%88%D0%BD%D1%8B%D0%B9_%D0%BF%D0%BE%D0%B6%D0%B8%D0%B7%D0%BD%D0%B5%D0%BD%D0%BD%D1%8B%D0%B9_%D0%B4%D0%B8%D0%BA%D1%82%D0%B0%D1%82%D0%BE%D1%80) Гвидо ван Россумом и названный в честь любимого им шоу [Monty Python's Flying Circus](https://en.wikipedia.org/wiki/Monty_Python%27s_Flying_Circus)\n",
    "\n",
    "<img src=\"https://advancelocal-adapter-image-uploads.s3.amazonaws.com/image.oregonlive.com/home/olive-media/width2048/img/tv/photo/2018/10/10/montycastjpg-7ef393e2355a42aa.jpg\" width=\"300\">"
   ]
  },
  {
   "cell_type": "markdown",
   "metadata": {
    "id": "llQ9RXHfc0ja"
   },
   "source": [
    "# 2. Anaconda\n",
    "\n",
    "[Сборка Anaconda](https://www.anaconda.com/products/individual) включает очень много полезных библиотек для анализа данных.\n",
    "\n",
    "Среди наиболее популярных библиотек:\n",
    " - <a href=\"http://numpy.org\">Numpy</a> - это один из основных пакетов для математических вычислений. Он содержит средства для работы с многомерными массивами и высокоуровневыми математическими функциями\n",
    " - <a href=\"https://www.scipy.org/\">SciPy</a> - научные вычисления. Методы оптимизации, интегрирования, модули обработки сигналов и изображений, статистика, линейная алгебра, сплайны, кластеризация и многое другое\n",
    " -  <a href=\"http://pandas.pydata.org/\">Pandas</a> - основная библиотека для обработки и анализа данных. Предназначена для данных разной природы - матричных, панельных данных, временных рядов. Претендует на звание самого мощного и гибкого средства для анализа данных с открытым исходным кодом\n",
    " - <a href=\"http://scikit-learn.org/stable/\">Scikit-learn</a> - реализация очень многих методов машинного обучения с отличной документацией.\n",
    " - <a href=\"http://http://matplotlib.org/\">matplotlib</a> - хорошая библиотека для визуализации данных\n",
    "\n",
    " С этими библиотеками вы будете знакомится дальше на курсе, а пока давайте попрактикуемся в решении базовых задач на  чистом Python."
   ]
  },
  {
   "cell_type": "markdown",
   "metadata": {
    "id": "rfAcLe-Tc0ja"
   },
   "source": [
    "# 3. Задачки"
   ]
  },
  {
   "cell_type": "markdown",
   "metadata": {
    "id": "y7gWqyZpc0jb"
   },
   "source": [
    "## Задача 1\n",
    "$N$ хоббитов делят $K$ кусков эльфийского хлеба поровну, не делящийся нацело остаток остается в корзинке у Сэма. Напишите функцию, которая принимает на вход параметры $N$ и $K$ и возвращает два числа: $x$ - cколько кусков эльфиского хлеба достанется каждому хоббиту, и $y$ - сколько кусков остаётся в корзинке."
   ]
  },
  {
   "cell_type": "code",
   "metadata": {
    "id": "m9mteFtwc0jb",
    "ExecuteTime": {
     "end_time": "2025-09-11T10:11:35.733391Z",
     "start_time": "2025-09-11T10:11:35.721348Z"
    }
   },
   "source": [
    "def share_bread(N, K):\n",
    "    x = K // N      # Количество кусков, которое достанется каждому хоббиту\n",
    "    y = K % N       # Количество кусков, которое останется в корзине\n",
    "    return x, y\n",
    "         # если в функции всё верно, то после выполнения этой строчки, не должно выскакивать ошибок\n",
    "assert share_bread(N=3, K=14) == (4, 2)\n",
    "\n",
    "x, y = share_bread(N=3, K=14)\n",
    "print(f\"Хоббитам достанется по {x} куска хлеба, в корзине останется {y} куска.\")"
   ],
   "outputs": [
    {
     "name": "stdout",
     "output_type": "stream",
     "text": [
      "Хоббитам достанется по 4 куска хлеба, в корзине останется 2 куска.\n"
     ]
    }
   ],
   "execution_count": 4
  },
  {
   "cell_type": "markdown",
   "metadata": {
    "id": "i24Th8I7c0jc"
   },
   "source": [
    "## Задача 2\n",
    "\n",
    "В копях Мории хоббиты нашли стену, на которой высечены разные натуральные числа. Согласно древним сказаниям, это даты сражений. Хоббиты знают, что сражения происходили только по високосным годам. Помогите хоббитам определить, является ли год с данным числом датой великого сражения. Если это так, то верните строку \"YOU SHALL PASS\", иначе верните \"YOU SHALL NOT PASS\". Напомним, что в соответствии с хоббитским календарем, год является високосным, если его номер кратен 4, но не кратен 100, а также если он кратен 400."
   ]
  },
  {
   "cell_type": "code",
   "metadata": {
    "id": "3SnU33pPc0jc",
    "ExecuteTime": {
     "end_time": "2025-09-11T10:37:38.678630Z",
     "start_time": "2025-09-11T10:37:38.663117Z"
    }
   },
   "source": [
    "def leap_year(year):\n",
    "    if (year % 400 == 0) or ((year % 100 != 0) and (year % 4 == 0)) : return \"YOU SHALL PASS\"\n",
    "    else: return \"YOU SHALL NOT PASS\"\n",
    "          # если в функции всё верно, то после выполнения этой строчки, не должно выскакивать ошибок\n",
    "assert leap_year(5) == 'YOU SHALL NOT PASS'\n",
    "\n",
    "print(\"1900 ->\", leap_year(1900))       # YOU SHALL NOT PASS (кратен 100, но не 400)\n"
   ],
   "outputs": [
    {
     "name": "stdout",
     "output_type": "stream",
     "text": [
      "1900 -> YOU SHALL NOT PASS\n"
     ]
    }
   ],
   "execution_count": 9
  },
  {
   "cell_type": "markdown",
   "metadata": {
    "id": "-oibBIG4c0jd"
   },
   "source": [
    "## Задача 3\n",
    "<img src=\"http://i0.kym-cdn.com/photos/images/original/001/187/255/5e9.gif\" width=300>\n",
    "\n",
    "\n",
    "Для могущественного магического ритуала Гендальфу необходимо быстро подсчитывать площадь своего амулета, который умеет менять размеры. Известно, что амулет имеет форму треугольника и Гендальф знает длину каждой из сторон. Напишите функцию, которая считает площадь амулета по трем сторонам.  \n",
    "\n",
    "**Подсказка:** используйте формулу Герона\n",
    "$$ S = \\sqrt{p(p-a)(p-b)(p-c)} $$\n",
    "$$ p = \\frac{a + b + c}{2}$$\n"
   ]
  },
  {
   "cell_type": "code",
   "metadata": {
    "id": "Uln7wcTVc0jd",
    "ExecuteTime": {
     "end_time": "2025-09-11T11:59:13.023784Z",
     "start_time": "2025-09-11T11:59:13.008059Z"
    }
   },
   "source": [
    "def amulet_area(a, b, c):\n",
    "          # Проверка возможности существования треугольника с заданными длинами сторон\n",
    "    if a + b <= c or a + c <= b or b + c <= a: return \"Треугольника с указанными сторонами не существует!\"\n",
    "          # Расчет полупериметра\n",
    "    half_perimetr = (a + b + c) / 2\n",
    "          # Возврат площади, вычисленной по формуле Герона\n",
    "    return (half_perimetr * (half_perimetr - a) * (half_perimetr - b) * (half_perimetr - c))**0.5\n",
    "\n",
    "print(amulet_area(1, 1, 3))   # Треугольника не существует\n",
    "\n",
    "assert amulet_area(3, 4, 5) == 6\n",
    "print(\"Треугольник со сторонами 3, 4 и 5 имеет площадь:\", amulet_area(3, 4, 5))"
   ],
   "outputs": [
    {
     "name": "stdout",
     "output_type": "stream",
     "text": [
      "Треугольника с указанными сторонами не существует!\n",
      "Треугольник со сторонами 3, 4 и 5 имеет площадь: 6.0\n"
     ]
    }
   ],
   "execution_count": 19
  },
  {
   "cell_type": "markdown",
   "metadata": {
    "id": "Os5KM6bQc0jd"
   },
   "source": [
    "## Задача 4\n",
    "\n",
    "Хоббиты собираются пешком идти до Мордора и им нужно подсчитать расстояние, которое им предстоит пройти. Хоббиты смогли вспомнить сразу несколько метрик расстояния: евклидово, манхэттена и косинусное, так что ваша задача - написать функцию под каждую из них. Важное условие - используйте только базовые функции для решения.\n",
    "\n",
    "\n",
    "* Евклидово расстояние\n",
    "$$ d(a, b) = \\sqrt{\\sum_i (a_i - b_i)^2} $$\n",
    "* Расстояние Манхэттена\n",
    "$$ d(a, b) = \\sum_i |a_i - b_i| $$\n",
    "* Косинусное расстояние\n",
    "$$ d(a, b) = 1 - \\frac{a^\\top b}{||a||_2\\cdot||b||_2}$$"
   ]
  },
  {
   "cell_type": "code",
   "metadata": {
    "id": "_21LOuZRc0jd",
    "ExecuteTime": {
     "end_time": "2025-09-12T10:08:42.577598Z",
     "start_time": "2025-09-12T10:08:42.558585Z"
    }
   },
   "source": [
    "def cal_euclidean(a, b):\n",
    "          # Расчет Евклидова расстояния между точками с заданными координатами\n",
    "    distance = 0\n",
    "    for i in range(len(a)-1): distance += round(((a[i] - a[i+1])**2 + (b[i] - b[i+1])**2) **0.5, 2)\n",
    "    return distance\n",
    "\n",
    "def cal_manhattan(a, b):\n",
    "          # Расчет расстояния между точками с заданными координатами по методу Манхэттена\n",
    "    distance = 0\n",
    "    for i in range(len(a)-1): distance += (abs(a[i] - a[i+1]) + abs(b[i] - b[i+1]))\n",
    "    return distance\n",
    "\n",
    "def cal_cosine(a, b):\n",
    "          # Расчет косинусного расстояния между векторами с заданными параметрами\n",
    "    distance = 1\n",
    "    multiplication = 0\n",
    "    vector_a = 0\n",
    "    vector_b = 0\n",
    "    for ai, bi in zip(a, b):  # Подготовка сумм и произведения на основе данных векторов\n",
    "        multiplication += abs(ai * bi)\n",
    "        vector_a += ai**2\n",
    "        vector_b += bi**2\n",
    "          # Расчет косинусного расстояния\n",
    "    if ((vector_a != 0) and (vector_a != 0)) :\n",
    "        distance = round(1 - multiplication / (vector_a**0.5 * vector_b**0.5), 2)\n",
    "    else: return 1           # Возврат единицы, если имеется нулевой вектор\n",
    "    return distance"
   ],
   "outputs": [],
   "execution_count": 36
  },
  {
   "cell_type": "code",
   "metadata": {
    "id": "fvyqAKchc0je",
    "ExecuteTime": {
     "end_time": "2025-09-12T10:08:46.101859Z",
     "start_time": "2025-09-12T10:08:46.086762Z"
    }
   },
   "source": [
    "          # Подключение библиотеки\n",
    "import numpy as np\n",
    "\n",
    "a = np.random.randint(-10, 10, size=3)\n",
    "b = np.random.randint(-10, 10, size=3)\n",
    "\n",
    "print(\"Расстояние между точками:\")\n",
    "for ai, bi in zip(a, b) :\n",
    "    print(\"({0}, {1})\".format(ai, bi))\n",
    "print(\"по Евклидовому методу:\", cal_euclidean(a, b), \";\")\n",
    "print(\"по методу Манхеттена:\", cal_manhattan(a, b), \".\")\n",
    "print(\"\\nКосинусное расстояние между векторами:\")\n",
    "print(a)\n",
    "print(b)\n",
    "print(\"составляет:\", cal_cosine(a, b), \".\")"
   ],
   "outputs": [
    {
     "name": "stdout",
     "output_type": "stream",
     "text": [
      "Расстояние между точками:\n",
      "(7, 1)\n",
      "(-9, 4)\n",
      "(-2, 0)\n",
      "по Евклидовому методу: 24.340000000000003 ;\n",
      "по методу Манхеттена: 30 .\n",
      "\n",
      "Косинусное расстояние между векторами:\n",
      "[ 7 -9 -2]\n",
      "[1 4 0]\n",
      "составляет: 0.1 .\n"
     ]
    }
   ],
   "execution_count": 37
  },
  {
   "cell_type": "markdown",
   "metadata": {
    "id": "w1L3GDw3c0je"
   },
   "source": [
    "## Задача 5* (бонусное неоцениваемое задание)\n",
    "\n",
    "**Замечание:** Поскольку библиотеку numpy мы будем подробно разбирать дальше, то это задание является бонусным, его выполнение необязательно для сдачи ДЗ и не влияет на итоговый балл. Как вариант, можете вернуться к нему после прохождения numpy ;)\n",
    "\n"
   ]
  },
  {
   "cell_type": "markdown",
   "metadata": {
    "id": "aEDIBiRpc0je"
   },
   "source": [
    "Создайте случайный array (`np.random.rand()`) длинной 100. Преобразуйте его так, чтобы\n",
    "* Максимальный элемент(ы) был равен 1\n",
    "* Минимальный элемент(ы) был равен 0\n",
    "* Остальные элементы в интервале от 0 до 1 остаются прежними"
   ]
  },
  {
   "cell_type": "code",
   "execution_count": null,
   "metadata": {
    "id": "AFye6XzXc0je"
   },
   "outputs": [],
   "source": [
    "my_array = ## Your code here\n",
    "print(np.max(my_array), np.min(my_array))\n",
    "print(my_array)"
   ]
  },
  {
   "cell_type": "markdown",
   "metadata": {
    "id": "D84Jpwmmc0je"
   },
   "source": [
    "Создайте array размером $5 \\times 6$ с целыми числами в интервале [0,50]. Напечатайте колонку, которая содержит максимальный элемент полученной матрицы"
   ]
  },
  {
   "cell_type": "code",
   "execution_count": null,
   "metadata": {
    "id": "SXaKW9bec0je"
   },
   "outputs": [],
   "source": [
    "my_array = ## Your code here\n",
    "selected_column = ## Your code here\n",
    "print('Shape: ',my_array.shape)\n",
    "print('Array')\n",
    "print(my_array)\n",
    "print(selected_column)"
   ]
  },
  {
   "cell_type": "markdown",
   "metadata": {
    "id": "g3scUf0_c0je"
   },
   "source": [
    "Напишите функцию, которая принимает на вход матрицу (array) X и возвращает все её уникальные строки в виде новой матрицы."
   ]
  },
  {
   "cell_type": "code",
   "execution_count": null,
   "metadata": {
    "id": "75j1Kyzvc0je"
   },
   "outputs": [],
   "source": [
    "def get_unique_rows(X):\n",
    "    # Your code here\n",
    "    return X_unique"
   ]
  },
  {
   "cell_type": "code",
   "execution_count": null,
   "metadata": {
    "id": "HzY-9KwGc0je"
   },
   "outputs": [],
   "source": [
    "X = np.random.randint(4, 6, size=(10,3))\n",
    "print(X)"
   ]
  },
  {
   "cell_type": "code",
   "execution_count": null,
   "metadata": {
    "id": "UiAM62AGc0jf"
   },
   "outputs": [],
   "source": [
    "get_unique_rows(X)"
   ]
  }
 ],
 "metadata": {
  "colab": {
   "provenance": []
  },
  "kernelspec": {
   "display_name": "Python 3",
   "language": "python",
   "name": "python3"
  },
  "language_info": {
   "codemirror_mode": {
    "name": "ipython",
    "version": 3
   },
   "file_extension": ".py",
   "mimetype": "text/x-python",
   "name": "python",
   "nbconvert_exporter": "python",
   "pygments_lexer": "ipython3",
   "version": "3.7.6"
  },
  "varInspector": {
   "cols": {
    "lenName": 16,
    "lenType": 16,
    "lenVar": 40
   },
   "kernels_config": {
    "python": {
     "delete_cmd_postfix": "",
     "delete_cmd_prefix": "del ",
     "library": "var_list.py",
     "varRefreshCmd": "print(var_dic_list())"
    },
    "r": {
     "delete_cmd_postfix": ") ",
     "delete_cmd_prefix": "rm(",
     "library": "var_list.r",
     "varRefreshCmd": "cat(var_dic_list()) "
    }
   },
   "types_to_exclude": [
    "module",
    "function",
    "builtin_function_or_method",
    "instance",
    "_Feature"
   ],
   "window_display": false
  }
 },
 "nbformat": 4,
 "nbformat_minor": 0
}
